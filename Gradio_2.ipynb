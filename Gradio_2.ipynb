{
  "nbformat": 4,
  "nbformat_minor": 0,
  "metadata": {
    "colab": {
      "name": "Gradio 2.ipynb",
      "private_outputs": true,
      "provenance": []
    },
    "kernelspec": {
      "name": "python3",
      "display_name": "Python 3"
    },
    "language_info": {
      "name": "python"
    }
  },
  "cells": [
    {
      "cell_type": "code",
      "metadata": {
        "id": "31vkYD2QuKBc"
      },
      "source": [
        "!pip install gradio"
      ],
      "execution_count": null,
      "outputs": []
    },
    {
      "cell_type": "code",
      "metadata": {
        "id": "zF14qrQMuVui"
      },
      "source": [
        "import gradio as gr\n",
        "import numpy as np\n",
        "import tensorflow as tf\n",
        "import requests\n",
        "from PIL import Image"
      ],
      "execution_count": null,
      "outputs": []
    },
    {
      "cell_type": "markdown",
      "metadata": {
        "id": "g-3OkRyKumgz"
      },
      "source": [
        "## Download human-readable labels for ImageNet."
      ]
    },
    {
      "cell_type": "code",
      "metadata": {
        "id": "N7eeH8IDur4V"
      },
      "source": [
        "response = requests.get(\"https://git.io/JJkYN\")\n",
        "labels = response.text.split('\\n')"
      ],
      "execution_count": null,
      "outputs": []
    },
    {
      "cell_type": "markdown",
      "metadata": {
        "id": "nZIEiqMmu8av"
      },
      "source": [
        "## Load models"
      ]
    },
    {
      "cell_type": "code",
      "metadata": {
        "id": "P0l5qos1vB3c"
      },
      "source": [
        "inception_net = tf.keras.applications.InceptionV3()\n",
        "mobile_net = tf.keras.applications.MobileNetV2()"
      ],
      "execution_count": null,
      "outputs": []
    },
    {
      "cell_type": "markdown",
      "metadata": {
        "id": "G49wJDZ7vQOL"
      },
      "source": [
        "## Create funtion to Mobile net and inception net classifier"
      ]
    },
    {
      "cell_type": "code",
      "metadata": {
        "id": "Isn-cOSLvbdc"
      },
      "source": [
        "def mobilenet_classify(im):\n",
        "  im = Image.fromarray(im.astype('uint8'), 'RGB')\n",
        "  im = im.resize((224, 224))\n",
        "  arr = np.array(im).reshape((-1, 224, 224, 3))\n",
        "  arr = tf.keras.applications.mobilenet.preprocess_input(arr)\n",
        "  prediction = mobile_net.predict(arr).flatten()\n",
        "  return {labels[i]: float(prediction[i]) for i in range (1000)}"
      ],
      "execution_count": null,
      "outputs": []
    },
    {
      "cell_type": "code",
      "metadata": {
        "id": "GXL_yTaYwl7K"
      },
      "source": [
        "def classify_img(im):\n",
        "  im = Image.fromarray(im.astype('uint8'), 'RGB')\n",
        "  im = im.resize((299, 299))\n",
        "  arr = np.array(im).reshape((-1, 299, 299, 3))\n",
        "  arr = tf.keras.applications.inception_v3.preprocess_input(arr)\n",
        "  prediction = inception_net.predict(arr).flatten()\n",
        "  return {labels[i]: float(prediction[i]) for i in range (1000)}"
      ],
      "execution_count": null,
      "outputs": []
    },
    {
      "cell_type": "markdown",
      "metadata": {
        "id": "8FSrzLtexf2Z"
      },
      "source": [
        "## Gradio"
      ]
    },
    {
      "cell_type": "markdown",
      "metadata": {
        "id": "3OWJ6mZBxlMB"
      },
      "source": [
        "### Gradio Inputs and outpus"
      ]
    },
    {
      "cell_type": "code",
      "metadata": {
        "id": "_mCjbjaLxntV"
      },
      "source": [
        "image = gr.inputs.Image()\n",
        "label = gr.outputs.Label(num_top_classes=3)\n",
        "sample_images = [\n",
        "                 [\"monkey.jpg\"],\n",
        "                 [\"sailboat.jpg\"],\n",
        "                 [\"bicycle.jpg\"],\n",
        "                 [\"download.jpg\"],\n",
        "                 [\"fox.jpg\"]\n",
        "]"
      ],
      "execution_count": null,
      "outputs": []
    },
    {
      "cell_type": "code",
      "metadata": {
        "id": "7ZEn2wknyJs4"
      },
      "source": [
        "##Gradio interfaces\n",
        "gr.Interface([classify_img, mobilenet_classify], inputs=image,outputs=label,\n",
        "             capture_session =True, interpretation = \"default\").launch()"
      ],
      "execution_count": null,
      "outputs": []
    },
    {
      "cell_type": "code",
      "metadata": {
        "id": "ndHKo900ypuX"
      },
      "source": [
        ""
      ],
      "execution_count": null,
      "outputs": []
    }
  ]
}