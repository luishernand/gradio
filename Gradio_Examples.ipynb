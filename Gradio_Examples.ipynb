{
  "nbformat": 4,
  "nbformat_minor": 0,
  "metadata": {
    "colab": {
      "name": "Gradio Examples.ipynb",
      "private_outputs": true,
      "provenance": []
    },
    "kernelspec": {
      "name": "python3",
      "display_name": "Python 3"
    },
    "language_info": {
      "name": "python"
    }
  },
  "cells": [
    {
      "cell_type": "markdown",
      "metadata": {
        "id": "C8OEsDnApjRI"
      },
      "source": [
        "# Image Classification in Tensorflow / Keras"
      ]
    },
    {
      "cell_type": "markdown",
      "metadata": {
        "id": "7VT8Mv5Iptji"
      },
      "source": [
        "## Install And import Dependecies"
      ]
    },
    {
      "cell_type": "code",
      "metadata": {
        "id": "KdpchU6GpxJf"
      },
      "source": [
        "!pip install gradio"
      ],
      "execution_count": null,
      "outputs": []
    },
    {
      "cell_type": "code",
      "metadata": {
        "id": "Ew1109EUp0Bg"
      },
      "source": [
        "import gradio as gr\n",
        "import numpy as np\n",
        "import requests\n",
        "import tensorflow as tf"
      ],
      "execution_count": null,
      "outputs": []
    },
    {
      "cell_type": "markdown",
      "metadata": {
        "id": "6DabSdWEqARs"
      },
      "source": [
        "## Load the Model"
      ]
    },
    {
      "cell_type": "code",
      "metadata": {
        "id": "N3-7J3ybqCim"
      },
      "source": [
        "inception_net = tf.keras.applications.InceptionV3()"
      ],
      "execution_count": null,
      "outputs": []
    },
    {
      "cell_type": "markdown",
      "metadata": {
        "id": "B0sZPi7jqTZz"
      },
      "source": [
        "## Download human-readable labels for ImageNet"
      ]
    },
    {
      "cell_type": "code",
      "metadata": {
        "id": "QcCBjbGAqZPo"
      },
      "source": [
        "response = requests.get(\"https://git.io/JJkYN\")\n",
        "labels = response.text.split('\\n')"
      ],
      "execution_count": null,
      "outputs": []
    },
    {
      "cell_type": "markdown",
      "metadata": {
        "id": "vk2PZAfyqoJZ"
      },
      "source": [
        "## Funtion to classifify Image"
      ]
    },
    {
      "cell_type": "code",
      "metadata": {
        "id": "W1WsxW1tqxY-"
      },
      "source": [
        "def classify_img(inp):\n",
        "  inp = inp.reshape((-1, 299, 299, 3))\n",
        "  inp = tf.keras.applications.inception_v3.preprocess_input(inp)\n",
        "  prediction = inception_net.predict(inp).flatten()\n",
        "  return {labels[i]: float(prediction[i]) for i in range (1000)}"
      ],
      "execution_count": null,
      "outputs": []
    },
    {
      "cell_type": "markdown",
      "metadata": {
        "id": "rB26wiDusB55"
      },
      "source": [
        "## Gradio interfaces"
      ]
    },
    {
      "cell_type": "code",
      "metadata": {
        "id": "8k9UQvXItE5T"
      },
      "source": [
        "image = gr.inputs.Image(shape = (299,299))\n",
        "label = gr.outputs.Label(num_top_classes=3)"
      ],
      "execution_count": null,
      "outputs": []
    },
    {
      "cell_type": "code",
      "metadata": {
        "id": "m8uCWUc5sFef"
      },
      "source": [
        "gr.Interface(classify_img, inputs=image,outputs=label,\n",
        "             capture_session =True, interpretation = \"default\").launch()"
      ],
      "execution_count": null,
      "outputs": []
    },
    {
      "cell_type": "code",
      "metadata": {
        "id": "6q-415lLs5x3"
      },
      "source": [
        ""
      ],
      "execution_count": null,
      "outputs": []
    }
  ]
}